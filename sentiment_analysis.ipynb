{
 "cells": [
  {
   "cell_type": "code",
   "execution_count": 1,
   "metadata": {},
   "outputs": [
    {
     "name": "stderr",
     "output_type": "stream",
     "text": [
      "[nltk_data] Downloading package stopwords to\n",
      "[nltk_data]     C:\\Users\\erika\\AppData\\Roaming\\nltk_data...\n",
      "[nltk_data]   Package stopwords is already up-to-date!\n",
      "[nltk_data] Downloading package punkt to\n",
      "[nltk_data]     C:\\Users\\erika\\AppData\\Roaming\\nltk_data...\n",
      "[nltk_data]   Package punkt is already up-to-date!\n",
      "[nltk_data] Downloading package vader_lexicon to\n",
      "[nltk_data]     C:\\Users\\erika\\AppData\\Roaming\\nltk_data...\n",
      "[nltk_data]   Package vader_lexicon is already up-to-date!\n"
     ]
    },
    {
     "data": {
      "text/plain": [
       "True"
      ]
     },
     "execution_count": 1,
     "metadata": {},
     "output_type": "execute_result"
    }
   ],
   "source": [
    "import pandas as pd\n",
    "import numpy as np\n",
    "import patsy\n",
    "import statsmodels.api as sm\n",
    "\n",
    "import matplotlib.pyplot as plt\n",
    "plt.rcParams['figure.figsize'] = (17, 7)\n",
    "plt.rcParams.update({'font.size': 14})\n",
    "import seaborn as sns\n",
    "\n",
    "#improve resolution\n",
    "#comment this line if erroring on your machine/screen\n",
    "%config InlineBackend.figure_format ='retina'\n",
    "\n",
    "import warnings\n",
    "warnings.filterwarnings('ignore')\n",
    "\n",
    "#import natural language toolkit\n",
    "import nltk\n",
    "\n",
    "# download stopwords & punkt & VADER\n",
    "nltk.download('stopwords')\n",
    "nltk.download('punkt')\n",
    "nltk.download('vader_lexicon') "
   ]
  },
  {
   "cell_type": "code",
   "execution_count": 2,
   "metadata": {},
   "outputs": [
    {
     "data": {
      "text/html": [
       "<div>\n",
       "<style scoped>\n",
       "    .dataframe tbody tr th:only-of-type {\n",
       "        vertical-align: middle;\n",
       "    }\n",
       "\n",
       "    .dataframe tbody tr th {\n",
       "        vertical-align: top;\n",
       "    }\n",
       "\n",
       "    .dataframe thead th {\n",
       "        text-align: right;\n",
       "    }\n",
       "</style>\n",
       "<table border=\"1\" class=\"dataframe\">\n",
       "  <thead>\n",
       "    <tr style=\"text-align: right;\">\n",
       "      <th></th>\n",
       "      <th>tweet</th>\n",
       "      <th>movie</th>\n",
       "      <th>movie_id</th>\n",
       "    </tr>\n",
       "  </thead>\n",
       "  <tbody>\n",
       "    <tr>\n",
       "      <th>0</th>\n",
       "      <td>@SpiderManMovie @HarryHolland99 @IMAX @DolbyCi...</td>\n",
       "      <td>Spider-Man: No Way Home</td>\n",
       "      <td>0</td>\n",
       "    </tr>\n",
       "    <tr>\n",
       "      <th>1</th>\n",
       "      <td>@A_C_Mitchell @molly_kraus @MarvelStudios @Spi...</td>\n",
       "      <td>Spider-Man: No Way Home</td>\n",
       "      <td>0</td>\n",
       "    </tr>\n",
       "    <tr>\n",
       "      <th>2</th>\n",
       "      <td>“Spider Man trailer and stock prices”… Story |...</td>\n",
       "      <td>Spider-Man: No Way Home</td>\n",
       "      <td>0</td>\n",
       "    </tr>\n",
       "    <tr>\n",
       "      <th>3</th>\n",
       "      <td>@Gamer21690 @SpiderManMovie too obsessed</td>\n",
       "      <td>Spider-Man: No Way Home</td>\n",
       "      <td>0</td>\n",
       "    </tr>\n",
       "    <tr>\n",
       "      <th>4</th>\n",
       "      <td>Looking forward to Spider-Man tonight. If anyo...</td>\n",
       "      <td>Spider-Man: No Way Home</td>\n",
       "      <td>0</td>\n",
       "    </tr>\n",
       "    <tr>\n",
       "      <th>...</th>\n",
       "      <td>...</td>\n",
       "      <td>...</td>\n",
       "      <td>...</td>\n",
       "    </tr>\n",
       "    <tr>\n",
       "      <th>801924</th>\n",
       "      <td>one minute into red rocket and I already know ...</td>\n",
       "      <td>Red Rocket</td>\n",
       "      <td>99</td>\n",
       "    </tr>\n",
       "    <tr>\n",
       "      <th>801925</th>\n",
       "      <td>Red Rocket was a wild dirty and cool movie. Si...</td>\n",
       "      <td>Red Rocket</td>\n",
       "      <td>99</td>\n",
       "    </tr>\n",
       "    <tr>\n",
       "      <th>801926</th>\n",
       "      <td>Honestly surprised Simon Rex is not getting mo...</td>\n",
       "      <td>Red Rocket</td>\n",
       "      <td>99</td>\n",
       "    </tr>\n",
       "    <tr>\n",
       "      <th>801927</th>\n",
       "      <td>Red Rocket is a good movie ❤️ https://t.co/TXz...</td>\n",
       "      <td>Red Rocket</td>\n",
       "      <td>99</td>\n",
       "    </tr>\n",
       "    <tr>\n",
       "      <th>801928</th>\n",
       "      <td>I won’t be able to see the new Matrix movie no...</td>\n",
       "      <td>Red Rocket</td>\n",
       "      <td>99</td>\n",
       "    </tr>\n",
       "  </tbody>\n",
       "</table>\n",
       "<p>801929 rows × 3 columns</p>\n",
       "</div>"
      ],
      "text/plain": [
       "                                                    tweet  \\\n",
       "0       @SpiderManMovie @HarryHolland99 @IMAX @DolbyCi...   \n",
       "1       @A_C_Mitchell @molly_kraus @MarvelStudios @Spi...   \n",
       "2       “Spider Man trailer and stock prices”… Story |...   \n",
       "3                @Gamer21690 @SpiderManMovie too obsessed   \n",
       "4       Looking forward to Spider-Man tonight. If anyo...   \n",
       "...                                                   ...   \n",
       "801924  one minute into red rocket and I already know ...   \n",
       "801925  Red Rocket was a wild dirty and cool movie. Si...   \n",
       "801926  Honestly surprised Simon Rex is not getting mo...   \n",
       "801927  Red Rocket is a good movie ❤️ https://t.co/TXz...   \n",
       "801928  I won’t be able to see the new Matrix movie no...   \n",
       "\n",
       "                          movie  movie_id  \n",
       "0       Spider-Man: No Way Home         0  \n",
       "1       Spider-Man: No Way Home         0  \n",
       "2       Spider-Man: No Way Home         0  \n",
       "3       Spider-Man: No Way Home         0  \n",
       "4       Spider-Man: No Way Home         0  \n",
       "...                         ...       ...  \n",
       "801924               Red Rocket        99  \n",
       "801925               Red Rocket        99  \n",
       "801926               Red Rocket        99  \n",
       "801927               Red Rocket        99  \n",
       "801928               Red Rocket        99  \n",
       "\n",
       "[801929 rows x 3 columns]"
      ]
     },
     "execution_count": 2,
     "metadata": {},
     "output_type": "execute_result"
    }
   ],
   "source": [
    "tweets_df = pd.read_csv('tweets.csv')\n",
    "#movie_id is one above what it is supposed to be in movies_df\n",
    "tweets_df['movie_id'] = tweets_df['movie_id'] - 1\n",
    "tweets_df"
   ]
  },
  {
   "cell_type": "code",
   "execution_count": 3,
   "metadata": {},
   "outputs": [
    {
     "data": {
      "text/html": [
       "<div>\n",
       "<style scoped>\n",
       "    .dataframe tbody tr th:only-of-type {\n",
       "        vertical-align: middle;\n",
       "    }\n",
       "\n",
       "    .dataframe tbody tr th {\n",
       "        vertical-align: top;\n",
       "    }\n",
       "\n",
       "    .dataframe thead th {\n",
       "        text-align: right;\n",
       "    }\n",
       "</style>\n",
       "<table border=\"1\" class=\"dataframe\">\n",
       "  <thead>\n",
       "    <tr style=\"text-align: right;\">\n",
       "      <th></th>\n",
       "      <th>released</th>\n",
       "      <th>movie</th>\n",
       "      <th>domestic</th>\n",
       "      <th>international</th>\n",
       "      <th>worldwide</th>\n",
       "    </tr>\n",
       "  </thead>\n",
       "  <tbody>\n",
       "    <tr>\n",
       "      <th>0</th>\n",
       "      <td>2021-12-17</td>\n",
       "      <td>Spider-Man: No Way Home</td>\n",
       "      <td>$804,617,772</td>\n",
       "      <td>$1,083,808,579</td>\n",
       "      <td>$1,888,426,351</td>\n",
       "    </tr>\n",
       "    <tr>\n",
       "      <th>1</th>\n",
       "      <td>2021-09-03</td>\n",
       "      <td>Shang-Chi and the Legend of the Ten R…</td>\n",
       "      <td>$224,543,292</td>\n",
       "      <td>$207,700,000</td>\n",
       "      <td>$432,243,292</td>\n",
       "    </tr>\n",
       "    <tr>\n",
       "      <th>2</th>\n",
       "      <td>2021-10-01</td>\n",
       "      <td>Venom: Let There be Carnage</td>\n",
       "      <td>$213,550,366</td>\n",
       "      <td>$288,050,013</td>\n",
       "      <td>$501,600,379</td>\n",
       "    </tr>\n",
       "    <tr>\n",
       "      <th>3</th>\n",
       "      <td>2021-07-09</td>\n",
       "      <td>Black Widow</td>\n",
       "      <td>$183,651,655</td>\n",
       "      <td>$196,100,000</td>\n",
       "      <td>$379,751,655</td>\n",
       "    </tr>\n",
       "    <tr>\n",
       "      <th>4</th>\n",
       "      <td>2021-06-25</td>\n",
       "      <td>F9: The Fast Saga</td>\n",
       "      <td>$173,005,945</td>\n",
       "      <td>$548,072,000</td>\n",
       "      <td>$721,077,945</td>\n",
       "    </tr>\n",
       "  </tbody>\n",
       "</table>\n",
       "</div>"
      ],
      "text/plain": [
       "    released                                   movie      domestic  \\\n",
       "0 2021-12-17                 Spider-Man: No Way Home  $804,617,772   \n",
       "1 2021-09-03  Shang-Chi and the Legend of the Ten R…  $224,543,292   \n",
       "2 2021-10-01             Venom: Let There be Carnage  $213,550,366   \n",
       "3 2021-07-09                             Black Widow  $183,651,655   \n",
       "4 2021-06-25                       F9: The Fast Saga  $173,005,945   \n",
       "\n",
       "    international       worldwide  \n",
       "0  $1,083,808,579  $1,888,426,351  \n",
       "1    $207,700,000    $432,243,292  \n",
       "2    $288,050,013    $501,600,379  \n",
       "3    $196,100,000    $379,751,655  \n",
       "4    $548,072,000    $721,077,945  "
      ]
     },
     "execution_count": 3,
     "metadata": {},
     "output_type": "execute_result"
    }
   ],
   "source": [
    "movies_df = pd.read_csv('processed_movies.csv')\n",
    "movies_df['Released'] = movies_df['Released'].apply(pd.to_datetime) #transforms our string values in column Released into a datetime object\n",
    "movies_df.columns = ['released', 'movie', 'domestic', 'international', 'worldwide']\n",
    "movies_df.head()"
   ]
  },
  {
   "cell_type": "code",
   "execution_count": 4,
   "metadata": {},
   "outputs": [
    {
     "data": {
      "text/html": [
       "<div>\n",
       "<style scoped>\n",
       "    .dataframe tbody tr th:only-of-type {\n",
       "        vertical-align: middle;\n",
       "    }\n",
       "\n",
       "    .dataframe tbody tr th {\n",
       "        vertical-align: top;\n",
       "    }\n",
       "\n",
       "    .dataframe thead th {\n",
       "        text-align: right;\n",
       "    }\n",
       "</style>\n",
       "<table border=\"1\" class=\"dataframe\">\n",
       "  <thead>\n",
       "    <tr style=\"text-align: right;\">\n",
       "      <th></th>\n",
       "      <th>tweet</th>\n",
       "      <th>movie</th>\n",
       "      <th>movie_id</th>\n",
       "      <th>tweet_clean</th>\n",
       "    </tr>\n",
       "  </thead>\n",
       "  <tbody>\n",
       "    <tr>\n",
       "      <th>0</th>\n",
       "      <td>@SpiderManMovie @HarryHolland99 @IMAX @DolbyCi...</td>\n",
       "      <td>Spider-Man: No Way Home</td>\n",
       "      <td>0</td>\n",
       "      <td>SpiderMan has saved the movie going experience!!!</td>\n",
       "    </tr>\n",
       "    <tr>\n",
       "      <th>1</th>\n",
       "      <td>@A_C_Mitchell @molly_kraus @MarvelStudios @Spi...</td>\n",
       "      <td>Spider-Man: No Way Home</td>\n",
       "      <td>0</td>\n",
       "      <td>Yes- so good! Grab extra napkins with your pop...</td>\n",
       "    </tr>\n",
       "    <tr>\n",
       "      <th>2</th>\n",
       "      <td>“Spider Man trailer and stock prices”… Story |...</td>\n",
       "      <td>Spider-Man: No Way Home</td>\n",
       "      <td>0</td>\n",
       "      <td>“Spider Man trailer and stock prices”… Story |...</td>\n",
       "    </tr>\n",
       "    <tr>\n",
       "      <th>3</th>\n",
       "      <td>@Gamer21690 @SpiderManMovie too obsessed</td>\n",
       "      <td>Spider-Man: No Way Home</td>\n",
       "      <td>0</td>\n",
       "      <td>too obsessed</td>\n",
       "    </tr>\n",
       "    <tr>\n",
       "      <th>4</th>\n",
       "      <td>Looking forward to Spider-Man tonight. If anyo...</td>\n",
       "      <td>Spider-Man: No Way Home</td>\n",
       "      <td>0</td>\n",
       "      <td>Looking forward to Spider-Man tonight. If anyo...</td>\n",
       "    </tr>\n",
       "  </tbody>\n",
       "</table>\n",
       "</div>"
      ],
      "text/plain": [
       "                                               tweet                    movie  \\\n",
       "0  @SpiderManMovie @HarryHolland99 @IMAX @DolbyCi...  Spider-Man: No Way Home   \n",
       "1  @A_C_Mitchell @molly_kraus @MarvelStudios @Spi...  Spider-Man: No Way Home   \n",
       "2  “Spider Man trailer and stock prices”… Story |...  Spider-Man: No Way Home   \n",
       "3           @Gamer21690 @SpiderManMovie too obsessed  Spider-Man: No Way Home   \n",
       "4  Looking forward to Spider-Man tonight. If anyo...  Spider-Man: No Way Home   \n",
       "\n",
       "   movie_id                                        tweet_clean  \n",
       "0         0  SpiderMan has saved the movie going experience!!!  \n",
       "1         0  Yes- so good! Grab extra napkins with your pop...  \n",
       "2         0  “Spider Man trailer and stock prices”… Story |...  \n",
       "3         0                                       too obsessed  \n",
       "4         0  Looking forward to Spider-Man tonight. If anyo...  "
      ]
     },
     "execution_count": 4,
     "metadata": {},
     "output_type": "execute_result"
    }
   ],
   "source": [
    "# Process the tweets first\n",
    "def clean_text(text):\n",
    "# Removes all special characters and numericals leaving the alphabets\n",
    "    to_return = ''\n",
    "    for word in text.split():\n",
    "        if not '@' in word and not 'https:' in word:\n",
    "            to_return += word + \" \"\n",
    "\n",
    "    to_return = to_return.replace(\"#\",\"\")\n",
    "    return to_return[0:len(to_return)-1]\n",
    "\n",
    "test_clean = clean_text(tweets_df.iloc[0]['tweet'])\n",
    "tweets_df[\"tweet_clean\"] = tweets_df['tweet'].apply(clean_text)\n",
    "tweets_df.head()"
   ]
  },
  {
   "cell_type": "code",
   "execution_count": 5,
   "metadata": {},
   "outputs": [
    {
     "data": {
      "text/html": [
       "<div>\n",
       "<style scoped>\n",
       "    .dataframe tbody tr th:only-of-type {\n",
       "        vertical-align: middle;\n",
       "    }\n",
       "\n",
       "    .dataframe tbody tr th {\n",
       "        vertical-align: top;\n",
       "    }\n",
       "\n",
       "    .dataframe thead th {\n",
       "        text-align: right;\n",
       "    }\n",
       "</style>\n",
       "<table border=\"1\" class=\"dataframe\">\n",
       "  <thead>\n",
       "    <tr style=\"text-align: right;\">\n",
       "      <th></th>\n",
       "      <th>tweet</th>\n",
       "      <th>movie</th>\n",
       "      <th>movie_id</th>\n",
       "      <th>tweet_clean</th>\n",
       "      <th>tweet_token</th>\n",
       "    </tr>\n",
       "  </thead>\n",
       "  <tbody>\n",
       "    <tr>\n",
       "      <th>0</th>\n",
       "      <td>@SpiderManMovie @HarryHolland99 @IMAX @DolbyCi...</td>\n",
       "      <td>Spider-Man: No Way Home</td>\n",
       "      <td>0</td>\n",
       "      <td>SpiderMan has saved the movie going experience!!!</td>\n",
       "      <td>[SpiderMan, has, saved, the, movie, going, exp...</td>\n",
       "    </tr>\n",
       "    <tr>\n",
       "      <th>1</th>\n",
       "      <td>@A_C_Mitchell @molly_kraus @MarvelStudios @Spi...</td>\n",
       "      <td>Spider-Man: No Way Home</td>\n",
       "      <td>0</td>\n",
       "      <td>Yes- so good! Grab extra napkins with your pop...</td>\n",
       "      <td>[Yes-, so, good, !, Grab, extra, napkins, with...</td>\n",
       "    </tr>\n",
       "    <tr>\n",
       "      <th>2</th>\n",
       "      <td>“Spider Man trailer and stock prices”… Story |...</td>\n",
       "      <td>Spider-Man: No Way Home</td>\n",
       "      <td>0</td>\n",
       "      <td>“Spider Man trailer and stock prices”… Story |...</td>\n",
       "      <td>[“, Spider, Man, trailer, and, stock, prices, ...</td>\n",
       "    </tr>\n",
       "    <tr>\n",
       "      <th>3</th>\n",
       "      <td>@Gamer21690 @SpiderManMovie too obsessed</td>\n",
       "      <td>Spider-Man: No Way Home</td>\n",
       "      <td>0</td>\n",
       "      <td>too obsessed</td>\n",
       "      <td>[too, obsessed]</td>\n",
       "    </tr>\n",
       "    <tr>\n",
       "      <th>4</th>\n",
       "      <td>Looking forward to Spider-Man tonight. If anyo...</td>\n",
       "      <td>Spider-Man: No Way Home</td>\n",
       "      <td>0</td>\n",
       "      <td>Looking forward to Spider-Man tonight. If anyo...</td>\n",
       "      <td>[Looking, forward, to, Spider-Man, tonight, .,...</td>\n",
       "    </tr>\n",
       "  </tbody>\n",
       "</table>\n",
       "</div>"
      ],
      "text/plain": [
       "                                               tweet                    movie  \\\n",
       "0  @SpiderManMovie @HarryHolland99 @IMAX @DolbyCi...  Spider-Man: No Way Home   \n",
       "1  @A_C_Mitchell @molly_kraus @MarvelStudios @Spi...  Spider-Man: No Way Home   \n",
       "2  “Spider Man trailer and stock prices”… Story |...  Spider-Man: No Way Home   \n",
       "3           @Gamer21690 @SpiderManMovie too obsessed  Spider-Man: No Way Home   \n",
       "4  Looking forward to Spider-Man tonight. If anyo...  Spider-Man: No Way Home   \n",
       "\n",
       "   movie_id                                        tweet_clean  \\\n",
       "0         0  SpiderMan has saved the movie going experience!!!   \n",
       "1         0  Yes- so good! Grab extra napkins with your pop...   \n",
       "2         0  “Spider Man trailer and stock prices”… Story |...   \n",
       "3         0                                       too obsessed   \n",
       "4         0  Looking forward to Spider-Man tonight. If anyo...   \n",
       "\n",
       "                                         tweet_token  \n",
       "0  [SpiderMan, has, saved, the, movie, going, exp...  \n",
       "1  [Yes-, so, good, !, Grab, extra, napkins, with...  \n",
       "2  [“, Spider, Man, trailer, and, stock, prices, ...  \n",
       "3                                    [too, obsessed]  \n",
       "4  [Looking, forward, to, Spider-Man, tonight, .,...  "
      ]
     },
     "execution_count": 5,
     "metadata": {},
     "output_type": "execute_result"
    }
   ],
   "source": [
    "# Tokenize\n",
    "from nltk.tokenize import word_tokenize\n",
    "tweets_df['tweet_token'] = tweets_df['tweet_clean'].apply(word_tokenize)\n",
    "tweets_df.head()"
   ]
  },
  {
   "cell_type": "code",
   "execution_count": 6,
   "metadata": {},
   "outputs": [
    {
     "data": {
      "text/html": [
       "<div>\n",
       "<style scoped>\n",
       "    .dataframe tbody tr th:only-of-type {\n",
       "        vertical-align: middle;\n",
       "    }\n",
       "\n",
       "    .dataframe tbody tr th {\n",
       "        vertical-align: top;\n",
       "    }\n",
       "\n",
       "    .dataframe thead th {\n",
       "        text-align: right;\n",
       "    }\n",
       "</style>\n",
       "<table border=\"1\" class=\"dataframe\">\n",
       "  <thead>\n",
       "    <tr style=\"text-align: right;\">\n",
       "      <th></th>\n",
       "      <th>tweet</th>\n",
       "      <th>movie</th>\n",
       "      <th>movie_id</th>\n",
       "      <th>tweet_clean</th>\n",
       "      <th>tweet_token</th>\n",
       "      <th>tweet_stop</th>\n",
       "    </tr>\n",
       "  </thead>\n",
       "  <tbody>\n",
       "    <tr>\n",
       "      <th>0</th>\n",
       "      <td>@SpiderManMovie @HarryHolland99 @IMAX @DolbyCi...</td>\n",
       "      <td>Spider-Man: No Way Home</td>\n",
       "      <td>0</td>\n",
       "      <td>SpiderMan has saved the movie going experience!!!</td>\n",
       "      <td>[SpiderMan, has, saved, the, movie, going, exp...</td>\n",
       "      <td>[SpiderMan, saved, movie, going, experience, !...</td>\n",
       "    </tr>\n",
       "    <tr>\n",
       "      <th>1</th>\n",
       "      <td>@A_C_Mitchell @molly_kraus @MarvelStudios @Spi...</td>\n",
       "      <td>Spider-Man: No Way Home</td>\n",
       "      <td>0</td>\n",
       "      <td>Yes- so good! Grab extra napkins with your pop...</td>\n",
       "      <td>[Yes-, so, good, !, Grab, extra, napkins, with...</td>\n",
       "      <td>[Yes-, good, !, Grab, extra, napkins, popcorn,...</td>\n",
       "    </tr>\n",
       "    <tr>\n",
       "      <th>2</th>\n",
       "      <td>“Spider Man trailer and stock prices”… Story |...</td>\n",
       "      <td>Spider-Man: No Way Home</td>\n",
       "      <td>0</td>\n",
       "      <td>“Spider Man trailer and stock prices”… Story |...</td>\n",
       "      <td>[“, Spider, Man, trailer, and, stock, prices, ...</td>\n",
       "      <td>[“, Spider, Man, trailer, stock, prices, ”, …,...</td>\n",
       "    </tr>\n",
       "    <tr>\n",
       "      <th>3</th>\n",
       "      <td>@Gamer21690 @SpiderManMovie too obsessed</td>\n",
       "      <td>Spider-Man: No Way Home</td>\n",
       "      <td>0</td>\n",
       "      <td>too obsessed</td>\n",
       "      <td>[too, obsessed]</td>\n",
       "      <td>[obsessed]</td>\n",
       "    </tr>\n",
       "    <tr>\n",
       "      <th>4</th>\n",
       "      <td>Looking forward to Spider-Man tonight. If anyo...</td>\n",
       "      <td>Spider-Man: No Way Home</td>\n",
       "      <td>0</td>\n",
       "      <td>Looking forward to Spider-Man tonight. If anyo...</td>\n",
       "      <td>[Looking, forward, to, Spider-Man, tonight, .,...</td>\n",
       "      <td>[Looking, forward, Spider-Man, tonight, ., If,...</td>\n",
       "    </tr>\n",
       "  </tbody>\n",
       "</table>\n",
       "</div>"
      ],
      "text/plain": [
       "                                               tweet                    movie  \\\n",
       "0  @SpiderManMovie @HarryHolland99 @IMAX @DolbyCi...  Spider-Man: No Way Home   \n",
       "1  @A_C_Mitchell @molly_kraus @MarvelStudios @Spi...  Spider-Man: No Way Home   \n",
       "2  “Spider Man trailer and stock prices”… Story |...  Spider-Man: No Way Home   \n",
       "3           @Gamer21690 @SpiderManMovie too obsessed  Spider-Man: No Way Home   \n",
       "4  Looking forward to Spider-Man tonight. If anyo...  Spider-Man: No Way Home   \n",
       "\n",
       "   movie_id                                        tweet_clean  \\\n",
       "0         0  SpiderMan has saved the movie going experience!!!   \n",
       "1         0  Yes- so good! Grab extra napkins with your pop...   \n",
       "2         0  “Spider Man trailer and stock prices”… Story |...   \n",
       "3         0                                       too obsessed   \n",
       "4         0  Looking forward to Spider-Man tonight. If anyo...   \n",
       "\n",
       "                                         tweet_token  \\\n",
       "0  [SpiderMan, has, saved, the, movie, going, exp...   \n",
       "1  [Yes-, so, good, !, Grab, extra, napkins, with...   \n",
       "2  [“, Spider, Man, trailer, and, stock, prices, ...   \n",
       "3                                    [too, obsessed]   \n",
       "4  [Looking, forward, to, Spider-Man, tonight, .,...   \n",
       "\n",
       "                                          tweet_stop  \n",
       "0  [SpiderMan, saved, movie, going, experience, !...  \n",
       "1  [Yes-, good, !, Grab, extra, napkins, popcorn,...  \n",
       "2  [“, Spider, Man, trailer, stock, prices, ”, …,...  \n",
       "3                                         [obsessed]  \n",
       "4  [Looking, forward, Spider-Man, tonight, ., If,...  "
      ]
     },
     "execution_count": 6,
     "metadata": {},
     "output_type": "execute_result"
    }
   ],
   "source": [
    "# Remove stop words\n",
    "\n",
    "from nltk.corpus import stopwords\n",
    "stop_words = set(stopwords.words('english'))\n",
    "tweets_df['tweet_stop'] = tweets_df['tweet_token'].apply(lambda x: [item for item in x if item not in stop_words])\n",
    "tweets_df.head()"
   ]
  },
  {
   "cell_type": "code",
   "execution_count": 7,
   "metadata": {},
   "outputs": [
    {
     "data": {
      "text/html": [
       "<div>\n",
       "<style scoped>\n",
       "    .dataframe tbody tr th:only-of-type {\n",
       "        vertical-align: middle;\n",
       "    }\n",
       "\n",
       "    .dataframe tbody tr th {\n",
       "        vertical-align: top;\n",
       "    }\n",
       "\n",
       "    .dataframe thead th {\n",
       "        text-align: right;\n",
       "    }\n",
       "</style>\n",
       "<table border=\"1\" class=\"dataframe\">\n",
       "  <thead>\n",
       "    <tr style=\"text-align: right;\">\n",
       "      <th></th>\n",
       "      <th>tweet</th>\n",
       "      <th>movie</th>\n",
       "      <th>movie_id</th>\n",
       "      <th>tweet_clean</th>\n",
       "      <th>tweet_token</th>\n",
       "      <th>tweet_stop</th>\n",
       "      <th>tweet_stem</th>\n",
       "    </tr>\n",
       "  </thead>\n",
       "  <tbody>\n",
       "    <tr>\n",
       "      <th>0</th>\n",
       "      <td>@SpiderManMovie @HarryHolland99 @IMAX @DolbyCi...</td>\n",
       "      <td>Spider-Man: No Way Home</td>\n",
       "      <td>0</td>\n",
       "      <td>SpiderMan has saved the movie going experience!!!</td>\n",
       "      <td>[SpiderMan, has, saved, the, movie, going, exp...</td>\n",
       "      <td>[SpiderMan, saved, movie, going, experience, !...</td>\n",
       "      <td>[spiderman, save, movi, go, experi, !, !, !]</td>\n",
       "    </tr>\n",
       "    <tr>\n",
       "      <th>1</th>\n",
       "      <td>@A_C_Mitchell @molly_kraus @MarvelStudios @Spi...</td>\n",
       "      <td>Spider-Man: No Way Home</td>\n",
       "      <td>0</td>\n",
       "      <td>Yes- so good! Grab extra napkins with your pop...</td>\n",
       "      <td>[Yes-, so, good, !, Grab, extra, napkins, with...</td>\n",
       "      <td>[Yes-, good, !, Grab, extra, napkins, popcorn,...</td>\n",
       "      <td>[yes-, good, !, grab, extra, napkin, popcorn, ...</td>\n",
       "    </tr>\n",
       "    <tr>\n",
       "      <th>2</th>\n",
       "      <td>“Spider Man trailer and stock prices”… Story |...</td>\n",
       "      <td>Spider-Man: No Way Home</td>\n",
       "      <td>0</td>\n",
       "      <td>“Spider Man trailer and stock prices”… Story |...</td>\n",
       "      <td>[“, Spider, Man, trailer, and, stock, prices, ...</td>\n",
       "      <td>[“, Spider, Man, trailer, stock, prices, ”, …,...</td>\n",
       "      <td>[“, spider, man, trailer, stock, price, ”, …, ...</td>\n",
       "    </tr>\n",
       "    <tr>\n",
       "      <th>3</th>\n",
       "      <td>@Gamer21690 @SpiderManMovie too obsessed</td>\n",
       "      <td>Spider-Man: No Way Home</td>\n",
       "      <td>0</td>\n",
       "      <td>too obsessed</td>\n",
       "      <td>[too, obsessed]</td>\n",
       "      <td>[obsessed]</td>\n",
       "      <td>[obsess]</td>\n",
       "    </tr>\n",
       "    <tr>\n",
       "      <th>4</th>\n",
       "      <td>Looking forward to Spider-Man tonight. If anyo...</td>\n",
       "      <td>Spider-Man: No Way Home</td>\n",
       "      <td>0</td>\n",
       "      <td>Looking forward to Spider-Man tonight. If anyo...</td>\n",
       "      <td>[Looking, forward, to, Spider-Man, tonight, .,...</td>\n",
       "      <td>[Looking, forward, Spider-Man, tonight, ., If,...</td>\n",
       "      <td>[look, forward, spider-man, tonight, ., if, an...</td>\n",
       "    </tr>\n",
       "  </tbody>\n",
       "</table>\n",
       "</div>"
      ],
      "text/plain": [
       "                                               tweet                    movie  \\\n",
       "0  @SpiderManMovie @HarryHolland99 @IMAX @DolbyCi...  Spider-Man: No Way Home   \n",
       "1  @A_C_Mitchell @molly_kraus @MarvelStudios @Spi...  Spider-Man: No Way Home   \n",
       "2  “Spider Man trailer and stock prices”… Story |...  Spider-Man: No Way Home   \n",
       "3           @Gamer21690 @SpiderManMovie too obsessed  Spider-Man: No Way Home   \n",
       "4  Looking forward to Spider-Man tonight. If anyo...  Spider-Man: No Way Home   \n",
       "\n",
       "   movie_id                                        tweet_clean  \\\n",
       "0         0  SpiderMan has saved the movie going experience!!!   \n",
       "1         0  Yes- so good! Grab extra napkins with your pop...   \n",
       "2         0  “Spider Man trailer and stock prices”… Story |...   \n",
       "3         0                                       too obsessed   \n",
       "4         0  Looking forward to Spider-Man tonight. If anyo...   \n",
       "\n",
       "                                         tweet_token  \\\n",
       "0  [SpiderMan, has, saved, the, movie, going, exp...   \n",
       "1  [Yes-, so, good, !, Grab, extra, napkins, with...   \n",
       "2  [“, Spider, Man, trailer, and, stock, prices, ...   \n",
       "3                                    [too, obsessed]   \n",
       "4  [Looking, forward, to, Spider-Man, tonight, .,...   \n",
       "\n",
       "                                          tweet_stop  \\\n",
       "0  [SpiderMan, saved, movie, going, experience, !...   \n",
       "1  [Yes-, good, !, Grab, extra, napkins, popcorn,...   \n",
       "2  [“, Spider, Man, trailer, stock, prices, ”, …,...   \n",
       "3                                         [obsessed]   \n",
       "4  [Looking, forward, Spider-Man, tonight, ., If,...   \n",
       "\n",
       "                                          tweet_stem  \n",
       "0       [spiderman, save, movi, go, experi, !, !, !]  \n",
       "1  [yes-, good, !, grab, extra, napkin, popcorn, ...  \n",
       "2  [“, spider, man, trailer, stock, price, ”, …, ...  \n",
       "3                                           [obsess]  \n",
       "4  [look, forward, spider-man, tonight, ., if, an...  "
      ]
     },
     "execution_count": 7,
     "metadata": {},
     "output_type": "execute_result"
    }
   ],
   "source": [
    "# Stemming\n",
    "from nltk.stem import PorterStemmer\n",
    "\n",
    "ps = PorterStemmer()\n",
    "\n",
    "tweets_df['tweet_stem'] = tweets_df['tweet_stop'].apply(lambda x: [ps.stem(y) for y in x])\n",
    "tweets_df.head()"
   ]
  },
  {
   "cell_type": "code",
   "execution_count": 8,
   "metadata": {
    "scrolled": true
   },
   "outputs": [
    {
     "data": {
      "image/png": "[encoded data removed]",
      "text/plain": [
       "<Figure size 1224x504 with 1 Axes>"
      ]
     },
     "metadata": {
      "image/png": {
       "height": 471,
       "width": 1032
      },
      "needs_background": "light"
     },
     "output_type": "display_data"
    }
   ],
   "source": [
    "# get words after stemming\n",
    "bw_tweets = tweets_df[tweets_df['movie'] == 'F9: The Fast Saga']\n",
    "tweet_series = bw_tweets.squeeze()\n",
    "tweet_stem = tweet_series['tweet_stem'].apply(pd.Series).stack()\n",
    "\n",
    "from nltk.probability import FreqDist\n",
    "import string\n",
    "\n",
    "#calculate word frequency\n",
    "fdist_tweets = FreqDist(tweet_stem)\n",
    "#delete punctuation counts\n",
    "for punc in string.punctuation:\n",
    "    del fdist_tweets[punc]\n",
    "\n",
    "#get top 20 words\n",
    "fdist_tweets.plot(20, cumulative=False);"
   ]
  },
  {
   "cell_type": "code",
   "execution_count": 9,
   "metadata": {},
   "outputs": [],
   "source": [
    "bw_tweets = tweets_df[tweets_df['movie'] == 'Black Widow']"
   ]
  },
  {
   "cell_type": "code",
   "execution_count": 10,
   "metadata": {},
   "outputs": [
    {
     "data": {
      "image/png": "[encoded data removed]",
      "text/plain": [
       "<Figure size 1224x504 with 1 Axes>"
      ]
     },
     "metadata": {
      "image/png": {
       "height": 500,
       "width": 1032
      },
      "needs_background": "light"
     },
     "output_type": "display_data"
    }
   ],
   "source": [
    "# get words after stemming\n",
    "bw_tweets = tweets_df[tweets_df['movie'] == 'Black Widow']\n",
    "tweet_series = bw_tweets.squeeze()\n",
    "tweet_stem = tweet_series['tweet_stem'].apply(pd.Series).stack()\n",
    "\n",
    "from nltk.probability import FreqDist\n",
    "import string\n",
    "\n",
    "#calculate word frequency\n",
    "fdist_tweets = FreqDist(tweet_stem)\n",
    "#delete punctuation counts\n",
    "for punc in string.punctuation:\n",
    "    del fdist_tweets[punc]\n",
    "\n",
    "#get top 20 words\n",
    "fdist_tweets.plot(20, cumulative=False);"
   ]
  },
  {
   "cell_type": "code",
   "execution_count": 11,
   "metadata": {},
   "outputs": [
    {
     "name": "stdout",
     "output_type": "stream",
     "text": [
      "SpiderMan has saved the movie going experience!!!\n",
      "{'neg': 0.0, 'neu': 0.62, 'pos': 0.38, 'compound': 0.5684}\n"
     ]
    }
   ],
   "source": [
    "# VADER sentiment analysis\n",
    "from nltk.sentiment.vader import SentimentIntensityAnalyzer \n",
    "analyser = SentimentIntensityAnalyzer()\n",
    "test_tweet = tweets_df.iloc[0]['tweet_clean']\n",
    "print(test_tweet)\n",
    "print(analyser.polarity_scores(test_tweet))"
   ]
  },
  {
   "cell_type": "code",
   "execution_count": 12,
   "metadata": {},
   "outputs": [
    {
     "data": {
      "text/html": [
       "<div>\n",
       "<style scoped>\n",
       "    .dataframe tbody tr th:only-of-type {\n",
       "        vertical-align: middle;\n",
       "    }\n",
       "\n",
       "    .dataframe tbody tr th {\n",
       "        vertical-align: top;\n",
       "    }\n",
       "\n",
       "    .dataframe thead th {\n",
       "        text-align: right;\n",
       "    }\n",
       "</style>\n",
       "<table border=\"1\" class=\"dataframe\">\n",
       "  <thead>\n",
       "    <tr style=\"text-align: right;\">\n",
       "      <th></th>\n",
       "      <th>tweet_clean</th>\n",
       "      <th>sentiment</th>\n",
       "    </tr>\n",
       "  </thead>\n",
       "  <tbody>\n",
       "    <tr>\n",
       "      <th>0</th>\n",
       "      <td>SpiderMan has saved the movie going experience!!!</td>\n",
       "      <td>{'neg': 0.0, 'neu': 0.62, 'pos': 0.38, 'compou...</td>\n",
       "    </tr>\n",
       "    <tr>\n",
       "      <th>1</th>\n",
       "      <td>Yes- so good! Grab extra napkins with your pop...</td>\n",
       "      <td>{'neg': 0.0, 'neu': 0.66, 'pos': 0.34, 'compou...</td>\n",
       "    </tr>\n",
       "    <tr>\n",
       "      <th>2</th>\n",
       "      <td>“Spider Man trailer and stock prices”… Story |...</td>\n",
       "      <td>{'neg': 0.0, 'neu': 1.0, 'pos': 0.0, 'compound...</td>\n",
       "    </tr>\n",
       "    <tr>\n",
       "      <th>3</th>\n",
       "      <td>too obsessed</td>\n",
       "      <td>{'neg': 0.63, 'neu': 0.37, 'pos': 0.0, 'compou...</td>\n",
       "    </tr>\n",
       "    <tr>\n",
       "      <th>4</th>\n",
       "      <td>Looking forward to Spider-Man tonight. If anyo...</td>\n",
       "      <td>{'neg': 0.25, 'neu': 0.75, 'pos': 0.0, 'compou...</td>\n",
       "    </tr>\n",
       "  </tbody>\n",
       "</table>\n",
       "</div>"
      ],
      "text/plain": [
       "                                         tweet_clean  \\\n",
       "0  SpiderMan has saved the movie going experience!!!   \n",
       "1  Yes- so good! Grab extra napkins with your pop...   \n",
       "2  “Spider Man trailer and stock prices”… Story |...   \n",
       "3                                       too obsessed   \n",
       "4  Looking forward to Spider-Man tonight. If anyo...   \n",
       "\n",
       "                                           sentiment  \n",
       "0  {'neg': 0.0, 'neu': 0.62, 'pos': 0.38, 'compou...  \n",
       "1  {'neg': 0.0, 'neu': 0.66, 'pos': 0.34, 'compou...  \n",
       "2  {'neg': 0.0, 'neu': 1.0, 'pos': 0.0, 'compound...  \n",
       "3  {'neg': 0.63, 'neu': 0.37, 'pos': 0.0, 'compou...  \n",
       "4  {'neg': 0.25, 'neu': 0.75, 'pos': 0.0, 'compou...  "
      ]
     },
     "execution_count": 12,
     "metadata": {},
     "output_type": "execute_result"
    }
   ],
   "source": [
    "sentiment_df = pd.DataFrame()\n",
    "sentiment_df['tweet_clean'] = tweets_df['tweet_clean']\n",
    "sentiment_df['sentiment'] = tweets_df['tweet_clean'].apply(analyser.polarity_scores)\n",
    "sentiment_df.head()"
   ]
  },
  {
   "cell_type": "code",
   "execution_count": 13,
   "metadata": {},
   "outputs": [
    {
     "data": {
      "text/html": [
       "<div>\n",
       "<style scoped>\n",
       "    .dataframe tbody tr th:only-of-type {\n",
       "        vertical-align: middle;\n",
       "    }\n",
       "\n",
       "    .dataframe tbody tr th {\n",
       "        vertical-align: top;\n",
       "    }\n",
       "\n",
       "    .dataframe thead th {\n",
       "        text-align: right;\n",
       "    }\n",
       "</style>\n",
       "<table border=\"1\" class=\"dataframe\">\n",
       "  <thead>\n",
       "    <tr style=\"text-align: right;\">\n",
       "      <th></th>\n",
       "      <th>tweet_clean</th>\n",
       "      <th>compound</th>\n",
       "      <th>neg</th>\n",
       "      <th>neu</th>\n",
       "      <th>pos</th>\n",
       "    </tr>\n",
       "  </thead>\n",
       "  <tbody>\n",
       "    <tr>\n",
       "      <th>0</th>\n",
       "      <td>SpiderMan has saved the movie going experience!!!</td>\n",
       "      <td>0.5684</td>\n",
       "      <td>0.00</td>\n",
       "      <td>0.62</td>\n",
       "      <td>0.38</td>\n",
       "    </tr>\n",
       "    <tr>\n",
       "      <th>1</th>\n",
       "      <td>Yes- so good! Grab extra napkins with your pop...</td>\n",
       "      <td>0.7339</td>\n",
       "      <td>0.00</td>\n",
       "      <td>0.66</td>\n",
       "      <td>0.34</td>\n",
       "    </tr>\n",
       "    <tr>\n",
       "      <th>2</th>\n",
       "      <td>“Spider Man trailer and stock prices”… Story |...</td>\n",
       "      <td>0.0000</td>\n",
       "      <td>0.00</td>\n",
       "      <td>1.00</td>\n",
       "      <td>0.00</td>\n",
       "    </tr>\n",
       "    <tr>\n",
       "      <th>3</th>\n",
       "      <td>too obsessed</td>\n",
       "      <td>-0.1779</td>\n",
       "      <td>0.63</td>\n",
       "      <td>0.37</td>\n",
       "      <td>0.00</td>\n",
       "    </tr>\n",
       "    <tr>\n",
       "      <th>4</th>\n",
       "      <td>Looking forward to Spider-Man tonight. If anyo...</td>\n",
       "      <td>-0.6875</td>\n",
       "      <td>0.25</td>\n",
       "      <td>0.75</td>\n",
       "      <td>0.00</td>\n",
       "    </tr>\n",
       "  </tbody>\n",
       "</table>\n",
       "</div>"
      ],
      "text/plain": [
       "                                         tweet_clean  compound   neg   neu  \\\n",
       "0  SpiderMan has saved the movie going experience!!!    0.5684  0.00  0.62   \n",
       "1  Yes- so good! Grab extra napkins with your pop...    0.7339  0.00  0.66   \n",
       "2  “Spider Man trailer and stock prices”… Story |...    0.0000  0.00  1.00   \n",
       "3                                       too obsessed   -0.1779  0.63  0.37   \n",
       "4  Looking forward to Spider-Man tonight. If anyo...   -0.6875  0.25  0.75   \n",
       "\n",
       "    pos  \n",
       "0  0.38  \n",
       "1  0.34  \n",
       "2  0.00  \n",
       "3  0.00  \n",
       "4  0.00  "
      ]
     },
     "execution_count": 13,
     "metadata": {},
     "output_type": "execute_result"
    }
   ],
   "source": [
    "def spread_sentiment(sentiment_obj, category):\n",
    "    return sentiment_obj[category]\n",
    "sentiment_df['compound'] = sentiment_df['sentiment'].apply(lambda x: spread_sentiment(x, 'compound'))\n",
    "sentiment_df['neg'] = sentiment_df['sentiment'].apply(lambda x: spread_sentiment(x, 'neg'))\n",
    "sentiment_df['neu'] = sentiment_df['sentiment'].apply(lambda x: spread_sentiment(x, 'neu'))\n",
    "sentiment_df['pos'] = sentiment_df['sentiment'].apply(lambda x: spread_sentiment(x, 'pos'))\n",
    "sentiment_df.drop(columns=['sentiment'], inplace=True)\n",
    "sentiment_df.head()"
   ]
  },
  {
   "cell_type": "code",
   "execution_count": 14,
   "metadata": {},
   "outputs": [
    {
     "data": {
      "text/html": [
       "<div>\n",
       "<style scoped>\n",
       "    .dataframe tbody tr th:only-of-type {\n",
       "        vertical-align: middle;\n",
       "    }\n",
       "\n",
       "    .dataframe tbody tr th {\n",
       "        vertical-align: top;\n",
       "    }\n",
       "\n",
       "    .dataframe thead th {\n",
       "        text-align: right;\n",
       "    }\n",
       "</style>\n",
       "<table border=\"1\" class=\"dataframe\">\n",
       "  <thead>\n",
       "    <tr style=\"text-align: right;\">\n",
       "      <th></th>\n",
       "      <th>tweet_clean</th>\n",
       "      <th>compound</th>\n",
       "      <th>neg</th>\n",
       "      <th>neu</th>\n",
       "      <th>pos</th>\n",
       "      <th>label</th>\n",
       "    </tr>\n",
       "  </thead>\n",
       "  <tbody>\n",
       "    <tr>\n",
       "      <th>0</th>\n",
       "      <td>SpiderMan has saved the movie going experience!!!</td>\n",
       "      <td>0.5684</td>\n",
       "      <td>0.00</td>\n",
       "      <td>0.62</td>\n",
       "      <td>0.38</td>\n",
       "      <td>pos</td>\n",
       "    </tr>\n",
       "    <tr>\n",
       "      <th>1</th>\n",
       "      <td>Yes- so good! Grab extra napkins with your pop...</td>\n",
       "      <td>0.7339</td>\n",
       "      <td>0.00</td>\n",
       "      <td>0.66</td>\n",
       "      <td>0.34</td>\n",
       "      <td>pos</td>\n",
       "    </tr>\n",
       "    <tr>\n",
       "      <th>2</th>\n",
       "      <td>“Spider Man trailer and stock prices”… Story |...</td>\n",
       "      <td>0.0000</td>\n",
       "      <td>0.00</td>\n",
       "      <td>1.00</td>\n",
       "      <td>0.00</td>\n",
       "      <td>neu</td>\n",
       "    </tr>\n",
       "    <tr>\n",
       "      <th>3</th>\n",
       "      <td>too obsessed</td>\n",
       "      <td>-0.1779</td>\n",
       "      <td>0.63</td>\n",
       "      <td>0.37</td>\n",
       "      <td>0.00</td>\n",
       "      <td>neg</td>\n",
       "    </tr>\n",
       "    <tr>\n",
       "      <th>4</th>\n",
       "      <td>Looking forward to Spider-Man tonight. If anyo...</td>\n",
       "      <td>-0.6875</td>\n",
       "      <td>0.25</td>\n",
       "      <td>0.75</td>\n",
       "      <td>0.00</td>\n",
       "      <td>neg</td>\n",
       "    </tr>\n",
       "  </tbody>\n",
       "</table>\n",
       "</div>"
      ],
      "text/plain": [
       "                                         tweet_clean  compound   neg   neu  \\\n",
       "0  SpiderMan has saved the movie going experience!!!    0.5684  0.00  0.62   \n",
       "1  Yes- so good! Grab extra napkins with your pop...    0.7339  0.00  0.66   \n",
       "2  “Spider Man trailer and stock prices”… Story |...    0.0000  0.00  1.00   \n",
       "3                                       too obsessed   -0.1779  0.63  0.37   \n",
       "4  Looking forward to Spider-Man tonight. If anyo...   -0.6875  0.25  0.75   \n",
       "\n",
       "    pos label  \n",
       "0  0.38   pos  \n",
       "1  0.34   pos  \n",
       "2  0.00   neu  \n",
       "3  0.00   neg  \n",
       "4  0.00   neg  "
      ]
     },
     "execution_count": 14,
     "metadata": {},
     "output_type": "execute_result"
    }
   ],
   "source": [
    "# group by and mean compound scores\n",
    "grouped = sentiment_df.groupby(by=['movie_id'])\n",
    "mean_sentiment_df = grouped.mean()\n",
    "mean_sentiment_df.head()"
   ]
  },
  {
   "cell_type": "code",
   "execution_count": 15,
   "metadata": {},
   "outputs": [
    {
     "name": "stdout",
     "output_type": "stream",
     "text": [
      "before (801929, 6)\n",
      "after (650046, 6)\n"
     ]
    }
   ],
   "source": [
    "# get number of tweets per movie\n",
    "count_sentiment_df = grouped.count()\n",
    "movie_aggregate_df = mean_sentiment_df.merge(count_sentiment_df['tweet_clean'], left_index=True, right_on='movie_id')\n",
    "movie_aggregate_df.columns = ['compound_mean', 'neg_mean', 'neu_mean', 'pos_mean', 'num_tweets']\n",
    "movie_aggregate_df.head(10)"
   ]
  },
  {
   "cell_type": "code",
   "execution_count": null,
   "metadata": {},
   "outputs": [],
   "source": [
    "# join with box office\n",
    "joined_df = movie_aggregate_df.merge(movies_df, left_on='movie_id', right_index=True)\n",
    "joined_df.head(10)"
   ]
  },
  {
   "cell_type": "code",
   "execution_count": null,
   "metadata": {},
   "outputs": [],
   "source": [
    "# Plot tweet counts\n",
    "sorted_count_df = joined_df.sort_values(by='num_tweets', ascending=True)\n",
    "sorted_count_plot = sns.barplot(data=sorted_count_df, y='num_tweets', x='movie')\n",
    "for item in sorted_count_plot.get_xticklabels():\n",
    "    item.set_rotation(90)"
   ]
  },
  {
   "cell_type": "code",
   "execution_count": null,
   "metadata": {},
   "outputs": [],
   "source": [
    "# Describe num tweets\n",
    "joined_df.describe()"
   ]
  },
  {
   "cell_type": "markdown",
   "metadata": {},
   "source": [
    "We need to get rid of some outliers and low tweet counts to make our predictions more accurate."
   ]
  },
  {
   "cell_type": "code",
   "execution_count": null,
   "metadata": {},
   "outputs": [],
   "source": [
    "# To remove low count tweets for correlation, we will use movies with 1000\n",
    "full_joined_df = joined_df\n",
    "joined_df = joined_df[joined_df['num_tweets'] > 1000]\n",
    "\n",
    "# Remove spider man\n",
    "joined_df = joined_df[joined_df['num_tweets'] < 100000]\n",
    "print(joined_df.shape)\n",
    "print(joined_df.head())\n",
    "\n",
    "sorted_count_df = joined_df.sort_values(by='num_tweets', ascending=True)\n",
    "sorted_count_plot = sns.barplot(data=sorted_count_df, y='num_tweets', x='movie')\n",
    "for item in sorted_count_plot.get_xticklabels():\n",
    "    item.set_rotation(90)"
   ]
  },
  {
   "cell_type": "markdown",
   "metadata": {},
   "source": [
    "### Connections between Average Compound Scores and Domestic Box Office\n",
    "\n",
    "Let's see if there is a direct connection between average compound scores and domestic box office numbers"
   ]
  },
  {
   "cell_type": "code",
   "execution_count": null,
   "metadata": {},
   "outputs": [],
   "source": [
    "def std_cash(string):\n",
    "    string = string.replace('$','').replace(',','')\n",
    "    return float(string)\n",
    "\n",
    "correlation_df = pd.DataFrame()\n",
    "correlation_df['compound'] = joined_df['compound_mean']\n",
    "correlation_df['domestic'] = joined_df['domestic'].apply(std_cash)\n",
    "correlation_df.head()"
   ]
  },
  {
   "cell_type": "code",
   "execution_count": null,
   "metadata": {},
   "outputs": [],
   "source": [
    "sns.lmplot(x='compound', y='domestic', data=correlation_df, ci=None, aspect=1.8)"
   ]
  },
  {
   "cell_type": "code",
   "execution_count": null,
   "metadata": {},
   "outputs": [],
   "source": [
    "outcome, predictors = patsy.dmatrices('domestic ~ compound', correlation_df)\n",
    "model = sm.OLS(outcome, predictors)\n",
    "results = model.fit()\n",
    "print(results.summary())"
   ]
  },
  {
   "cell_type": "markdown",
   "metadata": {},
   "source": [
    "#### Conclusion\n",
    "There does not seem to be a direct correlation between average compound scores of tweets 2 months after release and domestic box office numbers. This is evident from the relatively high p value for our predictor number and low R squared, indicated that the pearson correlation number is low."
   ]
  },
  {
   "cell_type": "markdown",
   "metadata": {},
   "source": [
    "### Correlation Between Movie Tweet Count & Domestic Box Office"
   ]
  },
  {
   "cell_type": "code",
   "execution_count": null,
   "metadata": {},
   "outputs": [],
   "source": [
    "correlation_df['num_tweets'] = joined_df['num_tweets']\n",
    "correlation_df.head(10)"
   ]
  },
  {
   "cell_type": "code",
   "execution_count": null,
   "metadata": {},
   "outputs": [],
   "source": [
    "sns.lmplot(x='num_tweets', y='domestic', data=correlation_df,\n",
    "          ci=None, aspect=1.8)"
   ]
  },
  {
   "cell_type": "code",
   "execution_count": null,
   "metadata": {},
   "outputs": [],
   "source": [
    "outcome, predictors = patsy.dmatrices('domestic ~ num_tweets', correlation_df)\n",
    "model = sm.OLS(outcome, predictors)\n",
    "results = model.fit()\n",
    "print(results.summary())"
   ]
  },
  {
   "cell_type": "markdown",
   "metadata": {},
   "source": [
    "#### Conclusion\n",
    "There does seem to be a linear relationship between the number of tweets and domestic box office numbers. The p value for the predictor is low and the pearson coefficient squared seems to be high enough to suggest a positive correlation (R^2 = 0.25 -> R = 0.5). The OLS model suggests that for every tweet, box office numbers would increase by $1847.\n",
    "\n",
    "Realistically, this makes some sense. Assuming it costs $10 for each movie ticket, $1847 would mean about 184 people bought tickets for the movie within the first 2 months. It is within the realm of possibility that only one out of 184 people would tweet about a movie they have seen."
   ]
  },
  {
   "cell_type": "markdown",
   "metadata": {},
   "source": [
    "### Correlation Between Tweet Count of Differing Sentiments & Domestic Box Office \n",
    "\n",
    "First we will add labels to our tweets (pos, neg, and neu). Then we will add up the number of labels per movie. Then we will see if there is a correlation between the number of labeled tweets."
   ]
  },
  {
   "cell_type": "code",
   "execution_count": null,
   "metadata": {},
   "outputs": [],
   "source": [
    "def compound_to_label(compound_score):\n",
    "    if(compound_score >= 0.05): return 'pos'\n",
    "    if(compound_score <= -0.05): return 'neg'\n",
    "    return 'neu'\n",
    "\n",
    "sentiment_df['label'] = sentiment_df['compound'].apply(compound_to_label)\n",
    "sentiment_df.head(10)"
   ]
  },
  {
   "cell_type": "code",
   "execution_count": null,
   "metadata": {},
   "outputs": [],
   "source": [
    "pos_df = sentiment_df[sentiment_df['label'] == 'pos']\n",
    "neu_df = sentiment_df[sentiment_df['label'] == 'neu']\n",
    "neg_df = sentiment_df[sentiment_df['label'] == 'neg']\n",
    "\n",
    "\n",
    "pos_grouped = pos_df.groupby(by=['movie_id'])\n",
    "pos_count = pos_grouped.count()['tweet_clean']\n",
    "neu_grouped = neu_df.groupby(by=['movie_id'])\n",
    "neu_count = neu_grouped.count()['tweet_clean']\n",
    "neg_grouped = neg_df.groupby(by=['movie_id'])\n",
    "neg_count = neg_grouped.count()['tweet_clean']\n",
    "labeled_count_df = pd.DataFrame()\n",
    "labeled_count_df['pos_count'] = pos_count\n",
    "labeled_count_df['neu_count'] = neu_count\n",
    "labeled_count_df['neg_count'] = neg_count\n",
    "labeled_count_df['num_tweets'] = labeled_count_df['pos_count'] + labeled_count_df['neu_count'] + labeled_count_df['neg_count']\n",
    "\n",
    "# Remove outliers and low tweet counts\n",
    "labeled_count_df = labeled_count_df[labeled_count_df['num_tweets'] > 1000]\n",
    "labeled_count_df = labeled_count_df[labeled_count_df['num_tweets'] < 100000]\n",
    "\n",
    "# Add domestic\n",
    "labeled_count_df['domestic'] = correlation_df['domestic']\n",
    "\n",
    "labeled_count_df.head(10)"
   ]
  },
  {
   "cell_type": "code",
   "execution_count": null,
   "metadata": {},
   "outputs": [],
   "source": [
    "# plot pos\n",
    "sns.lmplot(x='pos_count', y='domestic', \n",
    "           data=labeled_count_df, ci=None, aspect=1.8)"
   ]
  },
  {
   "cell_type": "code",
   "execution_count": null,
   "metadata": {},
   "outputs": [],
   "source": [
    "# plot neu\n",
    "sns.lmplot(x='neu_count', y='domestic', \n",
    "           data=labeled_count_df, ci=None, aspect=1.8)"
   ]
  },
  {
   "cell_type": "code",
   "execution_count": null,
   "metadata": {},
   "outputs": [],
   "source": [
    "# plot neg\n",
    "sns.lmplot(x='neg_count', y='domestic', \n",
    "           data=labeled_count_df, ci=None, aspect=1.8)"
   ]
  },
  {
   "cell_type": "markdown",
   "metadata": {},
   "source": [
    "### Notes\n",
    "Just by looking at the graphs, the sentiments of the tweets do not matter as much as the more tweets generally equate to higher domestic box office numbers. We'll now use OLS to see how each of the labels correlate to the domestic numbers."
   ]
  },
  {
   "cell_type": "code",
   "execution_count": null,
   "metadata": {},
   "outputs": [],
   "source": [
    "outcome, predictors = patsy.dmatrices('domestic ~ pos_count + neu_count + neg_count', labeled_count_df)\n",
    "model = sm.OLS(outcome, predictors)\n",
    "pos_results = model.fit()\n",
    "\n",
    "print(pos_results.summary())"
   ]
  },
  {
   "cell_type": "markdown",
   "metadata": {},
   "source": [
    "### Notes\n",
    "According to this OLS predictor, the amount of neutral"
   ]
  },
  {
   "cell_type": "code",
   "execution_count": null,
   "metadata": {},
   "outputs": [],
   "source": [
    "outcome, predictors = patsy.dmatrices('domestic ~ compound + num_tweets + compound*num_tweets', correlation_df)\n",
    "model = sm.OLS(outcome, predictors)\n",
    "results = model.fit()\n",
    "\n",
    "print(results.summary())"
   ]
  }
 ],
 "metadata": {
  "interpreter": {
   "hash": "949777d72b0d2535278d3dc13498b2535136f6dfe0678499012e853ee9abcab1"
  },
  "kernelspec": {
   "display_name": "Python 3",
   "language": "python",
   "name": "python3"
  },
  "language_info": {
   "codemirror_mode": {
    "name": "ipython",
    "version": 3
   },
   "file_extension": ".py",
   "mimetype": "text/x-python",
   "name": "python",
   "nbconvert_exporter": "python",
   "pygments_lexer": "ipython3",
   "version": "3.8.8"
  }
 },
 "nbformat": 4,
 "nbformat_minor": 2
}
