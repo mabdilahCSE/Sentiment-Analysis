{
  "cells": [
    {
      "cell_type": "markdown",
      "metadata": {
        "id": "DNtTtKcf-SNa"
      },
      "source": [
        "# COGS 108 - Final Project Proposal"
      ]
    },
    {
      "cell_type": "markdown",
      "metadata": {
        "id": "0hKFI6---SNc"
      },
      "source": [
        "# Names\n",
        "\n",
        "- Fajar\n",
        "- Robbie Kovar\n",
        "- Erik Cisneros\n",
        "- Julie Ngan\n",
        "- Mohamed Abdilahi"
      ]
    },
    {
      "cell_type": "markdown",
      "metadata": {
        "id": "_XBrK0zJ-SNc"
      },
      "source": [
        "# Research Question"
      ]
    },
    {
      "cell_type": "markdown",
      "metadata": {
        "id": "oDfjrZOG-SNd"
      },
      "source": [
        "How do the amount of positive and negative tweets affect how well American movies do in the box office?\n",
        "\n",
        "\n"
      ]
    },
    {
      "cell_type": "markdown",
      "metadata": {
        "id": "ecJYmO-a-SNd"
      },
      "source": [
        "## Background and Prior Work"
      ]
    },
    {
      "cell_type": "markdown",
      "metadata": {
        "id": "vEeBkED9-SNd"
      },
      "source": [
        "\n",
        "Trying to quantify how social media affects the real world is not a new idea. The specific question we are trying to ask, relating social media impressions and box office success for movies, has been explored by other parties in the past. A thesis paper from the University of Miami school of communication found positive correlation coefficients between engagements in Instagram, Facebook, and Twitter and box office numbers[^dejesus]. In the paper, engagements were calculated by accounting for the followers of posts. The author took movies from Rotten Tomatoes, used Box Office Mojo for revenue data, and used Rival IQ (a social media platform analytics service). These positive correlation coefficients suggest that there \"exists a moderate or strong positive correlation between engagement rates and box office for limited release films\". \n",
        "\n",
        "Another similar study by Neuralink and Facebook hoping to uncover the impact social media has on a movie’s success, particularly box office sales, found that Facebook ads contributed a significant portion to a movie’s marketing (20%) despite only accounting for a small percentage of its expenditure (4%).[^meta] In other words, the budget spent on Facebook ads ended up having a larger impact than its cost would entail. In the study they acknowledge how social media has become a competitive platform for media consumption, likening it to how television was revolutionary in marketing back in its heyday. Similarly, our group acknowledges how social media has become an influential and impactful communication platform, replacing traditional methods of self-expression such as word of mouth with the publishing of public posts. As such we hope to uncover if the brief mention of movie titles in people’s posts, has the potential to drive up sales for movies.\n",
        "\n",
        "[^dejesus]: De Jesus, Kimberly. “Social Media Engagement and Film Box Office.” University of Miami School of Communication, 2020. \n",
        "[^meta]: “New: Study Unveils Secrets to Box Office Marketing.” Meta for Business, https://www.facebook.com/business/m/verticals/entertainment-media/social-media-impact-on-movie-attendance. \n"
      ]
    },
    {
      "cell_type": "markdown",
      "metadata": {
        "id": "YF7Fp2DV-SNe"
      },
      "source": [
        "# Hypothesis\n"
      ]
    },
    {
      "cell_type": "markdown",
      "metadata": {
        "id": "BfM3zJ89-SNe"
      },
      "source": [
        "We believe that the more social media impressions a movie has before coming out results in it doing better in the box office in its opening weekend, regardless of if the impressions are positive or negative. "
      ]
    },
    {
      "cell_type": "markdown",
      "metadata": {
        "id": "ByT9Ie5f-SNe"
      },
      "source": [
        "# Data"
      ]
    },
    {
      "cell_type": "markdown",
      "metadata": {
        "id": "h1LjqOjQ-SNf"
      },
      "source": [
        "  Our ideal dataset would include the total number of tweets generated mentioning the movie, the ratio of positive and negative tweets mentioning the movie, opening weekend box office sales, and the total budget of the movie. \n",
        "  Half the data we can find online easily, but collecting information on tweets will require a more in-depth process. We will use Twitter sentiment analysis model to classify the tweets into either positive or negative polarities based on the words used in the tweet. This will take some time to figure out and polish. We can organize this data into a chart which will have a list of movies from the year we choose to examine. The leftmost column will have movies, and the top row will contain the categories mentioned earlier. \n"
      ]
    },
    {
      "cell_type": "markdown",
      "metadata": {
        "id": "HwA79Atw-SNf"
      },
      "source": [
        "# Ethics & Privacy"
      ]
    },
    {
      "cell_type": "markdown",
      "metadata": {
        "id": "sM4YQ3hd-SNf"
      },
      "source": [
        "Data Collection:\n",
        "  The actual act of scraping the data from twitter for our research project is in the clear regarding its eithcality as twitter is a public space. Because we only want the sentiment of the individuals in regards to the movies, their anonymity should be upheld. So, we are planning to only use their tweets and not them as an individual.\n",
        "\n",
        "Sentiment Analysis: \n",
        "  Ideally we would like to not only see if any form of discussion on twitter about a movie increases its performance, we would also like to observe if whether the primary reasoning for performance is based on the the type of discussion being taken place. We would like to divide up the tweets into three; positive, negative or neutral sentiment. While there is a concern for ethics when using sentiment analysis, we believe that the context that we are using it in does not break any moral standards and we are transparent in our goal."
      ]
    },
    {
      "cell_type": "markdown",
      "metadata": {
        "id": "FaIThIJk-SNf"
      },
      "source": [
        "# Team Expectations "
      ]
    },
    {
      "cell_type": "markdown",
      "metadata": {
        "id": "Sn71OMJu-SNf"
      },
      "source": [
        "\n",
        "\n",
        "```\n",
        "# This is formatted as code\n",
        "```\n",
        "\n",
        "* Do your part\n",
        "* Submit on time\n",
        "* Be communicative\n",
        "* ..."
      ]
    },
    {
      "cell_type": "markdown",
      "metadata": {
        "id": "Q3mu3NCz-SNf"
      },
      "source": [
        "# Project Timeline Proposal"
      ]
    },
    {
      "cell_type": "markdown",
      "metadata": {
        "id": "h9v-TXvz-SNf"
      },
      "source": [
        "| Meeting Date  | Meeting Time| Completed Before Meeting  | Discuss at Meeting |\n",
        "|---|---|---|---|\n",
        "| 4/18  |  6 PM | Read & Think about COGS 108 expectations; brainstorm topics/questions  | Determine best form of communication; Discuss and decide on final project topic; discuss hypothesis; begin background research. | \n",
        "| 4/21  |  6 PM |  Do background research on topic | Discuss ideal dataset(s) and ethics; draft project proposal | \n",
        "| 4/22  | 6 PM  | Edit, finalize, and submit proposal; Search for datasets  | Discuss Wrangling and possible analytical approaches; Assign group members to lead each specific part   |\n",
        "| 5/5  | 6 PM  | Import & Wrangle Data (Ant Man); EDA (Hulk) | Review/Edit wrangling/EDA; Discuss Analysis Plan. Complete project check-in 1   |\n",
        "| 5/18  | 6 PM  | Finalize wrangling/EDA; Begin Analysis (Iron Man; Thor) | Discuss/edit Analysis; Complete project check-in 2 |\n",
        "| 5/28  | 6 PM  | Complete analysis; Draft results/conclusion/discussion (Wasp)| Discuss/edit full project |\n",
        "| 6/3  | Before 11:59 PM  | NA | Turn in Final Project & Group Project Surveys |"
      ]
    }
  ],
  "metadata": {
    "kernelspec": {
      "display_name": "Python 3",
      "language": "python",
      "name": "python3"
    },
    "language_info": {
      "codemirror_mode": {
        "name": "ipython",
        "version": 3
      },
      "file_extension": ".py",
      "mimetype": "text/x-python",
      "name": "python",
      "nbconvert_exporter": "python",
      "pygments_lexer": "ipython3",
      "version": "3.7.9"
    },
    "colab": {
      "name": "ProjectProposalGroup012Sp22.ipynb",
      "provenance": [],
      "collapsed_sections": []
    }
  },
  "nbformat": 4,
  "nbformat_minor": 0
}